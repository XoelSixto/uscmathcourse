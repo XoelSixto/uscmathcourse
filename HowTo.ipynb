{
 "cells": [
  {
   "cell_type": "markdown",
   "metadata": {},
   "source": [
    "## how to get the repository and how to update it"
   ]
  },
  {
   "cell_type": "markdown",
   "metadata": {},
   "source": [
    "\n",
    "got a console: check that you have installed git\n",
    "> git --version\n",
    "in principle in Mac and Linux should be installed, Mac can ask you to install Xcode, do so!\n",
    "If you do not have git, you need to installed: \n",
    "\n",
    "if you have git you can clone the repository:\n",
    "> git clone https://github.com/jahernando/uscmathcourse.git\n",
    "\n",
    "\n",
    "if you already downloaded the repository, you can get the lastest copy\n",
    "> git pull origin master "
   ]
  },
  {
   "cell_type": "markdown",
   "metadata": {},
   "source": [
    "### how to open a Jupyter notebook\n",
    "\n",
    "first, installe anaconda in you OS https://www.continuum.io/downloads\n",
    "\n",
    "open a console\n",
    "> jupyter notebook\n",
    "\n",
    "it shows the home directory in your browser, navigate them\n"
   ]
  },
  {
   "cell_type": "markdown",
   "metadata": {},
   "source": [
    "### how to run a notebook\n",
    "\n",
    "To run a notebook, click \"play\" in the many on top of the page in the browser."
   ]
  },
  {
   "cell_type": "code",
   "execution_count": null,
   "metadata": {
    "collapsed": true
   },
   "outputs": [],
   "source": []
  },
  {
   "cell_type": "code",
   "execution_count": null,
   "metadata": {
    "collapsed": true
   },
   "outputs": [],
   "source": []
  }
 ],
 "metadata": {
  "anaconda-cloud": {},
  "kernelspec": {
   "display_name": "Python [Root]",
   "language": "python",
   "name": "Python [Root]"
  },
  "language_info": {
   "codemirror_mode": {
    "name": "ipython",
    "version": 2
   },
   "file_extension": ".py",
   "mimetype": "text/x-python",
   "name": "python",
   "nbconvert_exporter": "python",
   "pygments_lexer": "ipython2",
   "version": "2.7.12"
  }
 },
 "nbformat": 4,
 "nbformat_minor": 0
}
