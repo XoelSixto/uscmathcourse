{
 "cells": [
  {
   "cell_type": "markdown",
   "metadata": {},
   "source": [
    "## Como hacer una copia del repositorio o actualizarlo"
   ]
  },
  {
   "cell_type": "markdown",
   "metadata": {},
   "source": [
    "\n",
    "Abre una consola en tu ordenador. Comprueba que tienes 'git' instalado:\n",
    "\n",
    "$ git --version\n",
    "\n",
    "En principio, en el Max o Linux debería estar instalado. Si no lo está instalalo. Es posible que Max te pida instalar Xcode.\n",
    "\n",
    "Puedes clonar el código del repositorio con:\n",
    "\n",
    "$ git clone https://github.com/jahernando/uscmathcourse.git\n",
    "\n",
    "Si ya tienes una copia, puedes obtener la última actualización, ejecutando:\n",
    "\n",
    "$ git pull origin master "
   ]
  },
  {
   "cell_type": "markdown",
   "metadata": {},
   "source": [
    "## Como abrir un *notebook*\n",
    "\n",
    "Primero tienes que tener instalado anaconda https://www.continuum.io/downloads\n",
    "\n",
    "Ahora, en una consola, ejecuta:\n",
    "\n",
    "$ jupyter notebook\n",
    "\n",
    "Debería abrirse el navegador y él aparecer el directorio actual con la lista de ficheros. Abre el *notebook* que te interese.\n"
   ]
  },
  {
   "cell_type": "markdown",
   "metadata": {},
   "source": [
    "## Cómo cambiar o activar un *notebook*\n",
    "\n",
    "Con el *notebook* abierto, haz dos veces *click* en una celda para editarla y modificarla. Hay dos tipos principales de celda: *Markdown*, con texto, y *python* con código.\n",
    "\n",
    "Para activar o \"correr\" un *notebook*, haz *click* en el bonton de *play (>)*, en la fila de arriba. "
   ]
  },
  {
   "cell_type": "code",
   "execution_count": null,
   "metadata": {
    "collapsed": true
   },
   "outputs": [],
   "source": []
  },
  {
   "cell_type": "code",
   "execution_count": null,
   "metadata": {
    "collapsed": true
   },
   "outputs": [],
   "source": []
  }
 ],
 "metadata": {
  "anaconda-cloud": {},
  "kernelspec": {
   "display_name": "Python [Root]",
   "language": "python",
   "name": "Python [Root]"
  },
  "language_info": {
   "codemirror_mode": {
    "name": "ipython",
    "version": 2
   },
   "file_extension": ".py",
   "mimetype": "text/x-python",
   "name": "python",
   "nbconvert_exporter": "python",
   "pygments_lexer": "ipython2",
   "version": "2.7.12"
  }
 },
 "nbformat": 4,
 "nbformat_minor": 0
}
